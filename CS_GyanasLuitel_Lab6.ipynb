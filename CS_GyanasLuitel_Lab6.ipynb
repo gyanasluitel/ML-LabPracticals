{
  "nbformat": 4,
  "nbformat_minor": 0,
  "metadata": {
    "colab": {
      "name": "CS_GyanasLuitel_Lab6.ipynb",
      "provenance": [],
      "collapsed_sections": []
    },
    "kernelspec": {
      "name": "python3",
      "display_name": "Python 3"
    },
    "language_info": {
      "name": "python"
    }
  },
  "cells": [
    {
      "cell_type": "markdown",
      "metadata": {
        "id": "UXAqlPunAfPy"
      },
      "source": [
        "# Assignment 6: Artificial Neural Networks\n",
        "\n",
        "- Name: Gyanas Luitel\n",
        "- Roll No: 27\n",
        "- Group: CS\n",
        "\n",
        "\n"
      ]
    },
    {
      "cell_type": "markdown",
      "metadata": {
        "id": "-uuGidEhD6pS"
      },
      "source": [
        "# Building a Perceptron based classifier"
      ]
    },
    {
      "cell_type": "code",
      "metadata": {
        "colab": {
          "base_uri": "https://localhost:8080/"
        },
        "id": "v6rSolrzFnmj",
        "outputId": "1348106f-b2d8-463d-cd20-ba309033be73"
      },
      "source": [
        "!pip install neurolab"
      ],
      "execution_count": 42,
      "outputs": [
        {
          "output_type": "stream",
          "text": [
            "Requirement already satisfied: neurolab in /usr/local/lib/python3.7/dist-packages (0.3.5)\n"
          ],
          "name": "stdout"
        }
      ]
    },
    {
      "cell_type": "code",
      "metadata": {
        "id": "hfzUHBROEkQp"
      },
      "source": [
        "import numpy as np\n",
        "import matplotlib.pyplot as plt\n",
        "import neurolab as nl"
      ],
      "execution_count": 43,
      "outputs": []
    },
    {
      "cell_type": "code",
      "metadata": {
        "id": "ETGGb4zWFhNc",
        "colab": {
          "base_uri": "https://localhost:8080/"
        },
        "outputId": "c9c4e12f-c113-45da-8778-a58159beb22e"
      },
      "source": [
        "# Load input data\n",
        "text = np.loadtxt('./data/data_perceptron.txt')\n",
        "text"
      ],
      "execution_count": 44,
      "outputs": [
        {
          "output_type": "execute_result",
          "data": {
            "text/plain": [
              "array([[0.38, 0.19, 0.  ],\n",
              "       [0.17, 0.31, 0.  ],\n",
              "       [0.29, 0.54, 0.  ],\n",
              "       [0.89, 0.55, 1.  ],\n",
              "       [0.78, 0.36, 1.  ]])"
            ]
          },
          "metadata": {
            "tags": []
          },
          "execution_count": 44
        }
      ]
    },
    {
      "cell_type": "code",
      "metadata": {
        "id": "pJQGjx93IRh5"
      },
      "source": [
        "# Separate datapoints and labels\n",
        "data = text[: , :2]\n",
        "labels = text[: , 2].reshape((text.shape[0], 1))\n"
      ],
      "execution_count": 45,
      "outputs": []
    },
    {
      "cell_type": "code",
      "metadata": {
        "colab": {
          "base_uri": "https://localhost:8080/"
        },
        "id": "D-kuRtedMN91",
        "outputId": "bf2dcd15-9d24-4cee-bb1c-18ea957cec04"
      },
      "source": [
        "data"
      ],
      "execution_count": 46,
      "outputs": [
        {
          "output_type": "execute_result",
          "data": {
            "text/plain": [
              "array([[0.38, 0.19],\n",
              "       [0.17, 0.31],\n",
              "       [0.29, 0.54],\n",
              "       [0.89, 0.55],\n",
              "       [0.78, 0.36]])"
            ]
          },
          "metadata": {
            "tags": []
          },
          "execution_count": 46
        }
      ]
    },
    {
      "cell_type": "code",
      "metadata": {
        "colab": {
          "base_uri": "https://localhost:8080/"
        },
        "id": "GWeefKrIMQYU",
        "outputId": "458a3715-e15b-408a-dd77-8ef55a0ac869"
      },
      "source": [
        "labels"
      ],
      "execution_count": 47,
      "outputs": [
        {
          "output_type": "execute_result",
          "data": {
            "text/plain": [
              "array([[0.],\n",
              "       [0.],\n",
              "       [0.],\n",
              "       [1.],\n",
              "       [1.]])"
            ]
          },
          "metadata": {
            "tags": []
          },
          "execution_count": 47
        }
      ]
    },
    {
      "cell_type": "code",
      "metadata": {
        "colab": {
          "base_uri": "https://localhost:8080/",
          "height": 295
        },
        "id": "2-2xR94vIv-Z",
        "outputId": "08b1034d-2144-4581-994e-4de5e15ecdb8"
      },
      "source": [
        "# Plot input data\n",
        "plt.figure()\n",
        "plt.scatter(data[:, 0], data[:, 1])\n",
        "plt.xlabel('Dimension 1')\n",
        "plt.ylabel('Dimension 2')\n",
        "plt.title('Input data')\n",
        "plt.grid('Training error progress')\n",
        "\n",
        "plt.show()"
      ],
      "execution_count": 48,
      "outputs": [
        {
          "output_type": "display_data",
          "data": {
            "image/png": "[encoded data removed]",
            "text/plain": [
              "<Figure size 432x288 with 1 Axes>"
            ]
          },
          "metadata": {
            "tags": [],
            "needs_background": "light"
          }
        }
      ]
    },
    {
      "cell_type": "code",
      "metadata": {
        "id": "aTeOP2z-JXpK"
      },
      "source": [
        "# Define minimum and maximum values for each dimension\n",
        "dim1_min, dim1_max, dim2_min, dim2_max = 0, 1, 0, 1"
      ],
      "execution_count": 49,
      "outputs": []
    },
    {
      "cell_type": "code",
      "metadata": {
        "colab": {
          "base_uri": "https://localhost:8080/"
        },
        "id": "t1aM2LqqKIMi",
        "outputId": "e7c0e019-0571-4bd4-e75b-ecb3999125d5"
      },
      "source": [
        "#Number of neurons in the output layer\n",
        "num_output = labels.shape[1]\n",
        "num_output"
      ],
      "execution_count": 50,
      "outputs": [
        {
          "output_type": "execute_result",
          "data": {
            "text/plain": [
              "1"
            ]
          },
          "metadata": {
            "tags": []
          },
          "execution_count": 50
        }
      ]
    },
    {
      "cell_type": "code",
      "metadata": {
        "id": "rrqCQ2ClKQL9"
      },
      "source": [
        "#Define a perceptron with 2 input neurons (because we have 2 dimensions in the input data)\n",
        "dim1 = [dim1_min, dim1_max]\n",
        "dim2 = [dim2_min, dim2_max]\n",
        "perceptron = nl.net.newp([dim1, dim2], num_output)"
      ],
      "execution_count": 51,
      "outputs": []
    },
    {
      "cell_type": "code",
      "metadata": {
        "colab": {
          "base_uri": "https://localhost:8080/"
        },
        "id": "UcA6u7cYKiCI",
        "outputId": "e229aeb8-1091-4ba0-b572-c9272c5a7b60"
      },
      "source": [
        "# Train the perceptron using the data\n",
        "error_progress = perceptron.train(data, labels, epochs = 100, show = 20, lr = 0.03)\n"
      ],
      "execution_count": 52,
      "outputs": [
        {
          "output_type": "stream",
          "text": [
            "The goal of learning is reached\n"
          ],
          "name": "stdout"
        }
      ]
    },
    {
      "cell_type": "code",
      "metadata": {
        "colab": {
          "base_uri": "https://localhost:8080/",
          "height": 295
        },
        "id": "jjTtqpu7KtF9",
        "outputId": "b6c1a65d-a3ec-4e8f-bf96-a48387c8ef0f"
      },
      "source": [
        "# Plot the trainig progress\n",
        "plt.figure()\n",
        "plt.plot(error_progress)\n",
        "plt.xlabel('Number of epochs')\n",
        "plt.ylabel('Training error')\n",
        "plt.title('Training error progress')\n",
        "plt.grid()\n",
        "\n",
        "plt.show()"
      ],
      "execution_count": 53,
      "outputs": [
        {
          "output_type": "display_data",
          "data": {
            "image/png": "[encoded data removed]",
            "text/plain": [
              "<Figure size 432x288 with 1 Axes>"
            ]
          },
          "metadata": {
            "tags": [],
            "needs_background": "light"
          }
        }
      ]
    },
    {
      "cell_type": "markdown",
      "metadata": {
        "id": "-347X6SaLb51"
      },
      "source": [
        "# Constructing a single layer neural network"
      ]
    },
    {
      "cell_type": "code",
      "metadata": {
        "colab": {
          "base_uri": "https://localhost:8080/"
        },
        "id": "EhuRHqM7LfRG",
        "outputId": "b806d089-71e7-4639-d88e-a90f2d018e3f"
      },
      "source": [
        "# Load the input data\n",
        "text = np.loadtxt('./data/data_simple_nn.txt')\n",
        "text"
      ],
      "execution_count": 54,
      "outputs": [
        {
          "output_type": "execute_result",
          "data": {
            "text/plain": [
              "array([[1. , 4. , 0. , 0. ],\n",
              "       [1.1, 3.9, 0. , 0. ],\n",
              "       [1.2, 4.1, 0. , 0. ],\n",
              "       [0.9, 3.7, 0. , 0. ],\n",
              "       [7. , 4. , 0. , 1. ],\n",
              "       [7.2, 4.1, 0. , 1. ],\n",
              "       [6.9, 3.9, 0. , 1. ],\n",
              "       [7.1, 4.2, 0. , 1. ],\n",
              "       [4. , 1. , 1. , 0. ],\n",
              "       [4.1, 0.9, 1. , 0. ],\n",
              "       [4.2, 1.1, 1. , 0. ],\n",
              "       [3.9, 0.8, 1. , 0. ],\n",
              "       [4. , 7. , 1. , 1. ],\n",
              "       [4.2, 7.2, 1. , 1. ],\n",
              "       [3.9, 7.1, 1. , 1. ],\n",
              "       [4.1, 6.8, 1. , 1. ]])"
            ]
          },
          "metadata": {
            "tags": []
          },
          "execution_count": 54
        }
      ]
    },
    {
      "cell_type": "code",
      "metadata": {
        "id": "sK9K95xkNi3M"
      },
      "source": [
        "# Separate it into datapoints and labels\n",
        "data = text[:, 0:2]\n",
        "labels = text[:, 2:]"
      ],
      "execution_count": 55,
      "outputs": []
    },
    {
      "cell_type": "code",
      "metadata": {
        "colab": {
          "base_uri": "https://localhost:8080/"
        },
        "id": "5sPmUVWUNsXr",
        "outputId": "a9e538da-ecc4-4725-fce8-6637def911f2"
      },
      "source": [
        "data"
      ],
      "execution_count": 56,
      "outputs": [
        {
          "output_type": "execute_result",
          "data": {
            "text/plain": [
              "array([[1. , 4. ],\n",
              "       [1.1, 3.9],\n",
              "       [1.2, 4.1],\n",
              "       [0.9, 3.7],\n",
              "       [7. , 4. ],\n",
              "       [7.2, 4.1],\n",
              "       [6.9, 3.9],\n",
              "       [7.1, 4.2],\n",
              "       [4. , 1. ],\n",
              "       [4.1, 0.9],\n",
              "       [4.2, 1.1],\n",
              "       [3.9, 0.8],\n",
              "       [4. , 7. ],\n",
              "       [4.2, 7.2],\n",
              "       [3.9, 7.1],\n",
              "       [4.1, 6.8]])"
            ]
          },
          "metadata": {
            "tags": []
          },
          "execution_count": 56
        }
      ]
    },
    {
      "cell_type": "code",
      "metadata": {
        "colab": {
          "base_uri": "https://localhost:8080/"
        },
        "id": "qCb3RqRvNtHX",
        "outputId": "1e72e4e7-8400-4a20-a883-29a0788024b0"
      },
      "source": [
        "labels"
      ],
      "execution_count": 57,
      "outputs": [
        {
          "output_type": "execute_result",
          "data": {
            "text/plain": [
              "array([[0., 0.],\n",
              "       [0., 0.],\n",
              "       [0., 0.],\n",
              "       [0., 0.],\n",
              "       [0., 1.],\n",
              "       [0., 1.],\n",
              "       [0., 1.],\n",
              "       [0., 1.],\n",
              "       [1., 0.],\n",
              "       [1., 0.],\n",
              "       [1., 0.],\n",
              "       [1., 0.],\n",
              "       [1., 1.],\n",
              "       [1., 1.],\n",
              "       [1., 1.],\n",
              "       [1., 1.]])"
            ]
          },
          "metadata": {
            "tags": []
          },
          "execution_count": 57
        }
      ]
    },
    {
      "cell_type": "code",
      "metadata": {
        "colab": {
          "base_uri": "https://localhost:8080/",
          "height": 295
        },
        "id": "6nx7XOVONuwc",
        "outputId": "98445644-d5ea-4857-9dc7-aa2ea0a07b50"
      },
      "source": [
        "# Plot the input data\n",
        "plt.figure()\n",
        "plt.scatter(data[:,0], data[:,1])\n",
        "plt.xlabel('Dimension 1')\n",
        "plt.ylabel('Dimension 2')\n",
        "plt.title('Input data')\n",
        "\n",
        "plt.show()"
      ],
      "execution_count": 58,
      "outputs": [
        {
          "output_type": "display_data",
          "data": {
            "image/png": "[encoded data removed]",
            "text/plain": [
              "<Figure size 432x288 with 1 Axes>"
            ]
          },
          "metadata": {
            "tags": [],
            "needs_background": "light"
          }
        }
      ]
    },
    {
      "cell_type": "code",
      "metadata": {
        "id": "X3HwtbCUOxEz"
      },
      "source": [
        "# Minimum and maximum values for each dimension\n",
        "dim1_min, dim1_max= data[:,0].min(), data[:,0].max()\n",
        "dim2_min, dim2_max = data[:,1].min(), data[:,1].max()"
      ],
      "execution_count": 59,
      "outputs": []
    },
    {
      "cell_type": "code",
      "metadata": {
        "colab": {
          "base_uri": "https://localhost:8080/"
        },
        "id": "gKBU84fvPCbF",
        "outputId": "ff081ab8-1c35-4f4a-830b-7436d4ee7188"
      },
      "source": [
        "# Define the number of neurons in the output layer\n",
        "num_output = labels.shape[1]\n",
        "num_output"
      ],
      "execution_count": 60,
      "outputs": [
        {
          "output_type": "execute_result",
          "data": {
            "text/plain": [
              "2"
            ]
          },
          "metadata": {
            "tags": []
          },
          "execution_count": 60
        }
      ]
    },
    {
      "cell_type": "code",
      "metadata": {
        "id": "W_9QX_zfPLV1"
      },
      "source": [
        "# Define a single-layer neural network\n",
        "dim1 = [dim1_min, dim1_max]\n",
        "dim2 = [dim2_min, dim2_max]\n",
        "nn = nl.net.newp([dim1, dim2], num_output)"
      ],
      "execution_count": 61,
      "outputs": []
    },
    {
      "cell_type": "code",
      "metadata": {
        "colab": {
          "base_uri": "https://localhost:8080/"
        },
        "id": "y4g9oPabPYKN",
        "outputId": "d02497da-d7c1-4de7-e5ea-5eca1dff6e06"
      },
      "source": [
        "# Training the neural network with training data\n",
        "error_progress = nn.train(data, labels, epochs = 100, show = 20, lr = 0.03)"
      ],
      "execution_count": 62,
      "outputs": [
        {
          "output_type": "stream",
          "text": [
            "Epoch: 20; Error: 4.0;\n",
            "Epoch: 40; Error: 4.0;\n",
            "Epoch: 60; Error: 4.0;\n",
            "Epoch: 80; Error: 4.0;\n",
            "Epoch: 100; Error: 4.0;\n",
            "The maximum number of train epochs is reached\n"
          ],
          "name": "stdout"
        }
      ]
    },
    {
      "cell_type": "code",
      "metadata": {
        "colab": {
          "base_uri": "https://localhost:8080/",
          "height": 295
        },
        "id": "wbfacQgZPm0U",
        "outputId": "6ca466e1-3520-45ec-8857-547be31448fd"
      },
      "source": [
        "# Plot the training progress\n",
        "plt.figure()\n",
        "plt.plot(error_progress)\n",
        "plt.xlabel('Number of epochs')\n",
        "plt.ylabel('Training error')\n",
        "plt.title('Training error progress')\n",
        "plt.grid()\n",
        "\n",
        "plt.show()"
      ],
      "execution_count": 63,
      "outputs": [
        {
          "output_type": "display_data",
          "data": {
            "image/png": "[encoded data removed]",
            "text/plain": [
              "<Figure size 432x288 with 1 Axes>"
            ]
          },
          "metadata": {
            "tags": [],
            "needs_background": "light"
          }
        }
      ]
    },
    {
      "cell_type": "code",
      "metadata": {
        "colab": {
          "base_uri": "https://localhost:8080/"
        },
        "id": "BQyZAqYRP9OX",
        "outputId": "c763fb65-59a2-4170-dbd6-ecb9c2af3272"
      },
      "source": [
        "# Run the classifier on test datapoints\n",
        "print('\\nTest results:')\n",
        "data_test = [[0.4, 4.3], [4.4, 0.6], [4.7, 8.1]]\n",
        "for item in data_test:\n",
        "  print(item, '-->', nn.sim([item])[0])"
      ],
      "execution_count": 64,
      "outputs": [
        {
          "output_type": "stream",
          "text": [
            "\n",
            "Test results:\n",
            "[0.4, 4.3] --> [0. 0.]\n",
            "[4.4, 0.6] --> [1. 0.]\n",
            "[4.7, 8.1] --> [1. 1.]\n"
          ],
          "name": "stdout"
        }
      ]
    },
    {
      "cell_type": "markdown",
      "metadata": {
        "id": "U3ZKz4gDQf3k"
      },
      "source": [
        "# Constructing a multilayer neural network"
      ]
    },
    {
      "cell_type": "code",
      "metadata": {
        "id": "8vdwcuC5QjHO"
      },
      "source": [
        "# Generate some training data\n",
        "min_val = -15\n",
        "max_val = 15\n",
        "num_points = 130\n",
        "x = np.linspace(min_val, max_val, num_points)\n",
        "y = 3 * np.square(x) + 5\n",
        "y /= np.linalg.norm(y)"
      ],
      "execution_count": 65,
      "outputs": []
    },
    {
      "cell_type": "code",
      "metadata": {
        "id": "9XctF4DNRkd1"
      },
      "source": [
        "# Create data and labels\n",
        "data = x.reshape(num_points, 1)\n",
        "labels = y.reshape(num_points, 1)"
      ],
      "execution_count": 66,
      "outputs": []
    },
    {
      "cell_type": "code",
      "metadata": {
        "colab": {
          "base_uri": "https://localhost:8080/"
        },
        "id": "nQ2_sDdbRxhk",
        "outputId": "53095888-ba7e-4d3d-beaf-447eadbc7f89"
      },
      "source": [
        "data"
      ],
      "execution_count": 67,
      "outputs": [
        {
          "output_type": "execute_result",
          "data": {
            "text/plain": [
              "array([[-15.        ],\n",
              "       [-14.76744186],\n",
              "       [-14.53488372],\n",
              "       [-14.30232558],\n",
              "       [-14.06976744],\n",
              "       [-13.8372093 ],\n",
              "       [-13.60465116],\n",
              "       [-13.37209302],\n",
              "       [-13.13953488],\n",
              "       [-12.90697674],\n",
              "       [-12.6744186 ],\n",
              "       [-12.44186047],\n",
              "       [-12.20930233],\n",
              "       [-11.97674419],\n",
              "       [-11.74418605],\n",
              "       [-11.51162791],\n",
              "       [-11.27906977],\n",
              "       [-11.04651163],\n",
              "       [-10.81395349],\n",
              "       [-10.58139535],\n",
              "       [-10.34883721],\n",
              "       [-10.11627907],\n",
              "       [ -9.88372093],\n",
              "       [ -9.65116279],\n",
              "       [ -9.41860465],\n",
              "       [ -9.18604651],\n",
              "       [ -8.95348837],\n",
              "       [ -8.72093023],\n",
              "       [ -8.48837209],\n",
              "       [ -8.25581395],\n",
              "       [ -8.02325581],\n",
              "       [ -7.79069767],\n",
              "       [ -7.55813953],\n",
              "       [ -7.3255814 ],\n",
              "       [ -7.09302326],\n",
              "       [ -6.86046512],\n",
              "       [ -6.62790698],\n",
              "       [ -6.39534884],\n",
              "       [ -6.1627907 ],\n",
              "       [ -5.93023256],\n",
              "       [ -5.69767442],\n",
              "       [ -5.46511628],\n",
              "       [ -5.23255814],\n",
              "       [ -5.        ],\n",
              "       [ -4.76744186],\n",
              "       [ -4.53488372],\n",
              "       [ -4.30232558],\n",
              "       [ -4.06976744],\n",
              "       [ -3.8372093 ],\n",
              "       [ -3.60465116],\n",
              "       [ -3.37209302],\n",
              "       [ -3.13953488],\n",
              "       [ -2.90697674],\n",
              "       [ -2.6744186 ],\n",
              "       [ -2.44186047],\n",
              "       [ -2.20930233],\n",
              "       [ -1.97674419],\n",
              "       [ -1.74418605],\n",
              "       [ -1.51162791],\n",
              "       [ -1.27906977],\n",
              "       [ -1.04651163],\n",
              "       [ -0.81395349],\n",
              "       [ -0.58139535],\n",
              "       [ -0.34883721],\n",
              "       [ -0.11627907],\n",
              "       [  0.11627907],\n",
              "       [  0.34883721],\n",
              "       [  0.58139535],\n",
              "       [  0.81395349],\n",
              "       [  1.04651163],\n",
              "       [  1.27906977],\n",
              "       [  1.51162791],\n",
              "       [  1.74418605],\n",
              "       [  1.97674419],\n",
              "       [  2.20930233],\n",
              "       [  2.44186047],\n",
              "       [  2.6744186 ],\n",
              "       [  2.90697674],\n",
              "       [  3.13953488],\n",
              "       [  3.37209302],\n",
              "       [  3.60465116],\n",
              "       [  3.8372093 ],\n",
              "       [  4.06976744],\n",
              "       [  4.30232558],\n",
              "       [  4.53488372],\n",
              "       [  4.76744186],\n",
              "       [  5.        ],\n",
              "       [  5.23255814],\n",
              "       [  5.46511628],\n",
              "       [  5.69767442],\n",
              "       [  5.93023256],\n",
              "       [  6.1627907 ],\n",
              "       [  6.39534884],\n",
              "       [  6.62790698],\n",
              "       [  6.86046512],\n",
              "       [  7.09302326],\n",
              "       [  7.3255814 ],\n",
              "       [  7.55813953],\n",
              "       [  7.79069767],\n",
              "       [  8.02325581],\n",
              "       [  8.25581395],\n",
              "       [  8.48837209],\n",
              "       [  8.72093023],\n",
              "       [  8.95348837],\n",
              "       [  9.18604651],\n",
              "       [  9.41860465],\n",
              "       [  9.65116279],\n",
              "       [  9.88372093],\n",
              "       [ 10.11627907],\n",
              "       [ 10.34883721],\n",
              "       [ 10.58139535],\n",
              "       [ 10.81395349],\n",
              "       [ 11.04651163],\n",
              "       [ 11.27906977],\n",
              "       [ 11.51162791],\n",
              "       [ 11.74418605],\n",
              "       [ 11.97674419],\n",
              "       [ 12.20930233],\n",
              "       [ 12.44186047],\n",
              "       [ 12.6744186 ],\n",
              "       [ 12.90697674],\n",
              "       [ 13.13953488],\n",
              "       [ 13.37209302],\n",
              "       [ 13.60465116],\n",
              "       [ 13.8372093 ],\n",
              "       [ 14.06976744],\n",
              "       [ 14.30232558],\n",
              "       [ 14.53488372],\n",
              "       [ 14.76744186],\n",
              "       [ 15.        ]])"
            ]
          },
          "metadata": {
            "tags": []
          },
          "execution_count": 67
        }
      ]
    },
    {
      "cell_type": "code",
      "metadata": {
        "colab": {
          "base_uri": "https://localhost:8080/"
        },
        "id": "cYTtVDldRyCi",
        "outputId": "9034da2a-dcdf-49b2-f3a3-9331d7be9a21"
      },
      "source": [
        "labels"
      ],
      "execution_count": 68,
      "outputs": [
        {
          "output_type": "execute_result",
          "data": {
            "text/plain": [
              "array([[0.19221203],\n",
              "       [0.18634166],\n",
              "       [0.18056301],\n",
              "       [0.17487608],\n",
              "       [0.16928088],\n",
              "       [0.1637774 ],\n",
              "       [0.15836564],\n",
              "       [0.15304561],\n",
              "       [0.14781731],\n",
              "       [0.14268073],\n",
              "       [0.13763588],\n",
              "       [0.13268275],\n",
              "       [0.12782134],\n",
              "       [0.12305166],\n",
              "       [0.1183737 ],\n",
              "       [0.11378747],\n",
              "       [0.10929296],\n",
              "       [0.10489018],\n",
              "       [0.10057912],\n",
              "       [0.09635979],\n",
              "       [0.09223218],\n",
              "       [0.0881963 ],\n",
              "       [0.08425214],\n",
              "       [0.0803997 ],\n",
              "       [0.07663899],\n",
              "       [0.07297001],\n",
              "       [0.06939275],\n",
              "       [0.06590721],\n",
              "       [0.0625134 ],\n",
              "       [0.05921131],\n",
              "       [0.05600095],\n",
              "       [0.05288231],\n",
              "       [0.0498554 ],\n",
              "       [0.04692021],\n",
              "       [0.04407675],\n",
              "       [0.04132501],\n",
              "       [0.03866499],\n",
              "       [0.0360967 ],\n",
              "       [0.03362014],\n",
              "       [0.0312353 ],\n",
              "       [0.02894218],\n",
              "       [0.02674079],\n",
              "       [0.02463112],\n",
              "       [0.02261318],\n",
              "       [0.02068696],\n",
              "       [0.01885247],\n",
              "       [0.0171097 ],\n",
              "       [0.01545866],\n",
              "       [0.01389934],\n",
              "       [0.01243175],\n",
              "       [0.01105588],\n",
              "       [0.00977173],\n",
              "       [0.00857931],\n",
              "       [0.00747862],\n",
              "       [0.00646964],\n",
              "       [0.0055524 ],\n",
              "       [0.00472688],\n",
              "       [0.00399308],\n",
              "       [0.00335101],\n",
              "       [0.00280066],\n",
              "       [0.00234204],\n",
              "       [0.00197514],\n",
              "       [0.00169996],\n",
              "       [0.00151651],\n",
              "       [0.00142479],\n",
              "       [0.00142479],\n",
              "       [0.00151651],\n",
              "       [0.00169996],\n",
              "       [0.00197514],\n",
              "       [0.00234204],\n",
              "       [0.00280066],\n",
              "       [0.00335101],\n",
              "       [0.00399308],\n",
              "       [0.00472688],\n",
              "       [0.0055524 ],\n",
              "       [0.00646964],\n",
              "       [0.00747862],\n",
              "       [0.00857931],\n",
              "       [0.00977173],\n",
              "       [0.01105588],\n",
              "       [0.01243175],\n",
              "       [0.01389934],\n",
              "       [0.01545866],\n",
              "       [0.0171097 ],\n",
              "       [0.01885247],\n",
              "       [0.02068696],\n",
              "       [0.02261318],\n",
              "       [0.02463112],\n",
              "       [0.02674079],\n",
              "       [0.02894218],\n",
              "       [0.0312353 ],\n",
              "       [0.03362014],\n",
              "       [0.0360967 ],\n",
              "       [0.03866499],\n",
              "       [0.04132501],\n",
              "       [0.04407675],\n",
              "       [0.04692021],\n",
              "       [0.0498554 ],\n",
              "       [0.05288231],\n",
              "       [0.05600095],\n",
              "       [0.05921131],\n",
              "       [0.0625134 ],\n",
              "       [0.06590721],\n",
              "       [0.06939275],\n",
              "       [0.07297001],\n",
              "       [0.07663899],\n",
              "       [0.0803997 ],\n",
              "       [0.08425214],\n",
              "       [0.0881963 ],\n",
              "       [0.09223218],\n",
              "       [0.09635979],\n",
              "       [0.10057912],\n",
              "       [0.10489018],\n",
              "       [0.10929296],\n",
              "       [0.11378747],\n",
              "       [0.1183737 ],\n",
              "       [0.12305166],\n",
              "       [0.12782134],\n",
              "       [0.13268275],\n",
              "       [0.13763588],\n",
              "       [0.14268073],\n",
              "       [0.14781731],\n",
              "       [0.15304561],\n",
              "       [0.15836564],\n",
              "       [0.1637774 ],\n",
              "       [0.16928088],\n",
              "       [0.17487608],\n",
              "       [0.18056301],\n",
              "       [0.18634166],\n",
              "       [0.19221203]])"
            ]
          },
          "metadata": {
            "tags": []
          },
          "execution_count": 68
        }
      ]
    },
    {
      "cell_type": "code",
      "metadata": {
        "colab": {
          "base_uri": "https://localhost:8080/",
          "height": 295
        },
        "id": "nZ2VLkI-R0A5",
        "outputId": "7e0ff123-f2ea-4ecb-ac00-17bc2ccc931a"
      },
      "source": [
        "# Plot input data\n",
        "plt.figure()\n",
        "plt.scatter(data, labels)\n",
        "plt.xlabel('Dimension 1')\n",
        "plt.ylabel('Dimension 2')\n",
        "plt.title('Input data')\n",
        "\n",
        "plt.show()"
      ],
      "execution_count": 69,
      "outputs": [
        {
          "output_type": "display_data",
          "data": {
            "image/png": "[encoded data removed]",
            "text/plain": [
              "<Figure size 432x288 with 1 Axes>"
            ]
          },
          "metadata": {
            "tags": [],
            "needs_background": "light"
          }
        }
      ]
    },
    {
      "cell_type": "code",
      "metadata": {
        "id": "_f2rTA5-SBQt"
      },
      "source": [
        "# Define a multilayer neural network with 2 hidden layers\n",
        "# First hidden layer consists of 10 neurons\n",
        "# Second hidden layer consists of 6 neurons\n",
        "# Output layer consists of 1 neuron\n",
        "nn = nl.net.newff([[min_val, max_val]], [10, 6, 1])"
      ],
      "execution_count": 70,
      "outputs": []
    },
    {
      "cell_type": "code",
      "metadata": {
        "id": "9uhd1_gVSrPx"
      },
      "source": [
        "# Set the training algorithm to gradient descent\n",
        "nn.trainf = nl.train.train_gd"
      ],
      "execution_count": 71,
      "outputs": []
    },
    {
      "cell_type": "code",
      "metadata": {
        "colab": {
          "base_uri": "https://localhost:8080/"
        },
        "id": "QQ9u9mPVSxo8",
        "outputId": "29e96f72-1ce7-48c4-a3db-0b88337d3642"
      },
      "source": [
        "# Train the neural network\n",
        "error_progress = nn.train(data, labels, epochs=2000, show=100, goal=0.01)"
      ],
      "execution_count": 72,
      "outputs": [
        {
          "output_type": "stream",
          "text": [
            "Epoch: 100; Error: 0.026054899395772765;\n",
            "Epoch: 200; Error: 0.13750306742595855;\n",
            "Epoch: 300; Error: 0.010572101433321952;\n",
            "The goal of learning is reached\n"
          ],
          "name": "stdout"
        }
      ]
    },
    {
      "cell_type": "code",
      "metadata": {
        "id": "wq3uWabXTWmf"
      },
      "source": [
        "# Run the neural network on training datapoints\n",
        "output = nn.sim(data)\n",
        "y_pred = output.reshape(num_points)"
      ],
      "execution_count": 73,
      "outputs": []
    },
    {
      "cell_type": "code",
      "metadata": {
        "colab": {
          "base_uri": "https://localhost:8080/",
          "height": 295
        },
        "id": "Xs9IPsTrThcG",
        "outputId": "db16c03f-f1c3-4a15-842f-9d9aeb61a8e1"
      },
      "source": [
        "# Plot training error\n",
        "plt.figure()\n",
        "plt.plot(error_progress)\n",
        "plt.xlabel('Number of epochs')\n",
        "plt.ylabel('Error')\n",
        "plt.title('Training error progress')\n",
        "\n",
        "plt.show()"
      ],
      "execution_count": 74,
      "outputs": [
        {
          "output_type": "display_data",
          "data": {
            "image/png": "[encoded data removed]",
            "text/plain": [
              "<Figure size 432x288 with 1 Axes>"
            ]
          },
          "metadata": {
            "tags": [],
            "needs_background": "light"
          }
        }
      ]
    },
    {
      "cell_type": "code",
      "metadata": {
        "colab": {
          "base_uri": "https://localhost:8080/",
          "height": 281
        },
        "id": "e9qlpQPLTvso",
        "outputId": "40f117d0-f100-4661-c652-1f6064a970b8"
      },
      "source": [
        "# Plot the predicted output\n",
        "x_dense = np.linspace(min_val, max_val, num_points * 2)\n",
        "y_dense_pred = nn.sim(x_dense.reshape(x_dense.size,1)).reshape(x_dense.size)\n",
        "\n",
        "plt.figure()\n",
        "plt.plot(x_dense, y_dense_pred, '-', x, y, '.', x, y_pred, 'p')\n",
        "plt.title('Actual vs predicted')\n",
        "\n",
        "plt.show()"
      ],
      "execution_count": 75,
      "outputs": [
        {
          "output_type": "display_data",
          "data": {
            "image/png": "[encoded data removed]",
            "text/plain": [
              "<Figure size 432x288 with 1 Axes>"
            ]
          },
          "metadata": {
            "tags": [],
            "needs_background": "light"
          }
        }
      ]
    },
    {
      "cell_type": "markdown",
      "metadata": {
        "id": "E78OVC4ZWRnY"
      },
      "source": [
        "# Building a vector quantizer"
      ]
    },
    {
      "cell_type": "code",
      "metadata": {
        "colab": {
          "base_uri": "https://localhost:8080/"
        },
        "id": "pKgoEbqQWWBv",
        "outputId": "f2b3e132-99c9-417d-a3c0-d5bb771caddd"
      },
      "source": [
        "# Load input data\n",
        "text = np.loadtxt('./data/data_vector_quantization.txt')\n",
        "text.shape"
      ],
      "execution_count": 76,
      "outputs": [
        {
          "output_type": "execute_result",
          "data": {
            "text/plain": [
              "(16, 6)"
            ]
          },
          "metadata": {
            "tags": []
          },
          "execution_count": 76
        }
      ]
    },
    {
      "cell_type": "code",
      "metadata": {
        "colab": {
          "base_uri": "https://localhost:8080/"
        },
        "id": "gvw8BCT2aGaY",
        "outputId": "e177702f-b675-4356-c7ad-97195c9ccd06"
      },
      "source": [
        "text"
      ],
      "execution_count": 77,
      "outputs": [
        {
          "output_type": "execute_result",
          "data": {
            "text/plain": [
              "array([[0.9, 5.1, 1. , 0. , 0. , 0. ],\n",
              "       [1.2, 4.8, 1. , 0. , 0. , 0. ],\n",
              "       [1. , 4.9, 1. , 0. , 0. , 0. ],\n",
              "       [0.8, 5.2, 1. , 0. , 0. , 0. ],\n",
              "       [8. , 4.1, 0. , 1. , 0. , 0. ],\n",
              "       [8.2, 4.3, 0. , 1. , 0. , 0. ],\n",
              "       [7.9, 3.8, 0. , 1. , 0. , 0. ],\n",
              "       [8.3, 4.3, 0. , 1. , 0. , 0. ],\n",
              "       [5. , 1.1, 0. , 0. , 1. , 0. ],\n",
              "       [5.1, 0.8, 0. , 0. , 1. , 0. ],\n",
              "       [5.3, 1.2, 0. , 0. , 1. , 0. ],\n",
              "       [4.9, 0.9, 0. , 0. , 1. , 0. ],\n",
              "       [5. , 7. , 0. , 0. , 0. , 1. ],\n",
              "       [5.2, 7.2, 0. , 0. , 0. , 1. ],\n",
              "       [4.9, 7.1, 0. , 0. , 0. , 1. ],\n",
              "       [5.1, 6.8, 0. , 0. , 0. , 1. ]])"
            ]
          },
          "metadata": {
            "tags": []
          },
          "execution_count": 77
        }
      ]
    },
    {
      "cell_type": "code",
      "metadata": {
        "id": "wwR4eU94WlUM"
      },
      "source": [
        "# Separate it into data and labels\n",
        "data = text[:, 0:2]\n",
        "labels = text[:, 2:]"
      ],
      "execution_count": 78,
      "outputs": []
    },
    {
      "cell_type": "code",
      "metadata": {
        "colab": {
          "base_uri": "https://localhost:8080/"
        },
        "id": "tJ9gdH3LY9zj",
        "outputId": "9a5f29bf-f2ab-4512-b9bd-91dd6036751b"
      },
      "source": [
        "data"
      ],
      "execution_count": 79,
      "outputs": [
        {
          "output_type": "execute_result",
          "data": {
            "text/plain": [
              "array([[0.9, 5.1],\n",
              "       [1.2, 4.8],\n",
              "       [1. , 4.9],\n",
              "       [0.8, 5.2],\n",
              "       [8. , 4.1],\n",
              "       [8.2, 4.3],\n",
              "       [7.9, 3.8],\n",
              "       [8.3, 4.3],\n",
              "       [5. , 1.1],\n",
              "       [5.1, 0.8],\n",
              "       [5.3, 1.2],\n",
              "       [4.9, 0.9],\n",
              "       [5. , 7. ],\n",
              "       [5.2, 7.2],\n",
              "       [4.9, 7.1],\n",
              "       [5.1, 6.8]])"
            ]
          },
          "metadata": {
            "tags": []
          },
          "execution_count": 79
        }
      ]
    },
    {
      "cell_type": "code",
      "metadata": {
        "colab": {
          "base_uri": "https://localhost:8080/"
        },
        "id": "Fu9KVO0AY-ll",
        "outputId": "527a8a39-7fea-45e7-ac7c-69f7ae0c3920"
      },
      "source": [
        "labels"
      ],
      "execution_count": 80,
      "outputs": [
        {
          "output_type": "execute_result",
          "data": {
            "text/plain": [
              "array([[1., 0., 0., 0.],\n",
              "       [1., 0., 0., 0.],\n",
              "       [1., 0., 0., 0.],\n",
              "       [1., 0., 0., 0.],\n",
              "       [0., 1., 0., 0.],\n",
              "       [0., 1., 0., 0.],\n",
              "       [0., 1., 0., 0.],\n",
              "       [0., 1., 0., 0.],\n",
              "       [0., 0., 1., 0.],\n",
              "       [0., 0., 1., 0.],\n",
              "       [0., 0., 1., 0.],\n",
              "       [0., 0., 1., 0.],\n",
              "       [0., 0., 0., 1.],\n",
              "       [0., 0., 0., 1.],\n",
              "       [0., 0., 0., 1.],\n",
              "       [0., 0., 0., 1.]])"
            ]
          },
          "metadata": {
            "tags": []
          },
          "execution_count": 80
        }
      ]
    },
    {
      "cell_type": "code",
      "metadata": {
        "id": "LXhD5bB6b1n5"
      },
      "source": [
        "import neurolab as nl"
      ],
      "execution_count": 81,
      "outputs": []
    },
    {
      "cell_type": "code",
      "metadata": {
        "id": "KuhLQSOWY_i9"
      },
      "source": [
        "# Define a neural network with 2 layers:\n",
        "# 10 neurons in input layer and 4 neurons in output layer\n",
        "num_input_neurons = 10\n",
        "num_output_neurons = 4\n",
        "weights = [1/num_output_neurons] * num_output_neurons\n",
        "nn = nl.net.newlvq(nl.tool.minmax(data), num_input_neurons, weights)"
      ],
      "execution_count": 82,
      "outputs": []
    },
    {
      "cell_type": "code",
      "metadata": {
        "id": "BgIX0Th0Zf5W",
        "colab": {
          "base_uri": "https://localhost:8080/"
        },
        "outputId": "681dc208-5cab-4b3c-d753-7807738f5fdd"
      },
      "source": [
        "# Train the neural network\n",
        "_ = nn.train(data, labels, epochs=500, goal=-1)"
      ],
      "execution_count": 83,
      "outputs": [
        {
          "output_type": "stream",
          "text": [
            "Epoch: 100; Error: 0.0;\n",
            "Epoch: 200; Error: 0.0;\n",
            "Epoch: 300; Error: 0.0;\n",
            "Epoch: 400; Error: 0.0;\n",
            "Epoch: 500; Error: 0.0;\n",
            "The maximum number of train epochs is reached\n"
          ],
          "name": "stdout"
        }
      ]
    },
    {
      "cell_type": "code",
      "metadata": {
        "id": "SJEZn20ktNqt"
      },
      "source": [
        "# Create the input grid to visualize the output clusters\n",
        "xx, yy = np.meshgrid(np.arange(0, 10, 0.2), np.arange(0, 10, 0.2))\n",
        "xx.shape = xx.size, 1\n",
        "yy.shape = yy.size, 1\n",
        "grid_xy = np.concatenate((xx, yy), axis=1)"
      ],
      "execution_count": 84,
      "outputs": []
    },
    {
      "cell_type": "code",
      "metadata": {
        "id": "4IDaIoqkuFOs"
      },
      "source": [
        "# Evaluate the input grid of points\n",
        "grid_eval = nn.sim(grid_xy)"
      ],
      "execution_count": 85,
      "outputs": []
    },
    {
      "cell_type": "code",
      "metadata": {
        "id": "1IVAOdFeueGL"
      },
      "source": [
        "# Define the 4 classes\n",
        "class_1 = data[labels[:,0] == 1]\n",
        "class_2 = data[labels[:,1] == 1]\n",
        "class_3 = data[labels[:,2] == 1]\n",
        "class_4 = data[labels[:,3] == 1]"
      ],
      "execution_count": 86,
      "outputs": []
    },
    {
      "cell_type": "code",
      "metadata": {
        "id": "4qkMoijQvPYi"
      },
      "source": [
        "# Define X-Y grids for all the 4 classes\n",
        "grid_1 = grid_xy[grid_eval[:,0] == 1]\n",
        "grid_2 = grid_xy[grid_eval[:,1] == 1]\n",
        "grid_3 = grid_xy[grid_eval[:,2] == 1]\n",
        "grid_4 = grid_xy[grid_eval[:,3] == 1]"
      ],
      "execution_count": 87,
      "outputs": []
    },
    {
      "cell_type": "code",
      "metadata": {
        "colab": {
          "base_uri": "https://localhost:8080/",
          "height": 295
        },
        "id": "Tyi27yNivrxl",
        "outputId": "798aefc0-8a6f-462d-8308-2d1a57317d91"
      },
      "source": [
        "# Plot the outputs\n",
        "plt.plot(class_1[:,0], class_1[:,1], 'ko',\n",
        "         class_2[:,0], class_2[:,1], 'ko',\n",
        "         class_3[:,0], class_3[:,1], 'ko',\n",
        "         class_4[:,0], class_4[:,1], 'ko')\n",
        "plt.plot(grid_1[:,0], grid_1[:,1], 'm.',\n",
        "         grid_2[:,0], grid_2[:,1], 'bx',\n",
        "         grid_3[:,0], grid_3[:,1], 'c^',\n",
        "         grid_4[:,0], grid_4[:,1], 'y+')\n",
        "plt.axis([0, 10, 0, 10])\n",
        "plt.xlabel('Dimension 1')\n",
        "plt.ylabel('Dimension 2')\n",
        "plt.title('Vector quantization')\n",
        "\n",
        "plt.show()"
      ],
      "execution_count": 88,
      "outputs": [
        {
          "output_type": "display_data",
          "data": {
            "image/png": "[encoded data removed]",
            "text/plain": [
              "<Figure size 432x288 with 1 Axes>"
            ]
          },
          "metadata": {
            "tags": [],
            "needs_background": "light"
          }
        }
      ]
    },
    {
      "cell_type": "markdown",
      "metadata": {
        "id": "Jcc9RYoRw2Jk"
      },
      "source": [
        "# Analyzing sequential data using recurrent neural networks"
      ]
    },
    {
      "cell_type": "markdown",
      "metadata": {
        "id": "QGHzm-dAyDQw"
      },
      "source": [
        "Define a function to generate the waveforms. Start by defining four sine waves:"
      ]
    },
    {
      "cell_type": "code",
      "metadata": {
        "id": "0ylrVFzaw70K"
      },
      "source": [
        "def get_data(num_points):\n",
        "  # Create sine waveform\n",
        "  wave_1 = 0.5 * np.sin(np.arange(0, num_points))\n",
        "  wave_2 = 3.6 * np.sin(np.arange(0, num_points))\n",
        "  wave_3 = 1.1 * np.sin(np.arange(0, num_points))\n",
        "  wave_4 = 4.7 * np.sin(np.arange(0, num_points))\n",
        "  \n",
        "  # Create varying amplitudes\n",
        "  amp_1 = np.ones(num_points)\n",
        "  amp_2 = 2.1 + np.zeros(num_points)\n",
        "  amp_3 = 3.2 * np.ones(num_points)\n",
        "  amp_4 = 0.8 + np.zeros(num_points)\n",
        "\n",
        "  # Create the overall waveform:\n",
        "  wave = np.array([wave_1, wave_2, wave_3, wave_4]).reshape(num_points * 4, 1)\n",
        "  amp = np.array([[amp_1, amp_2, amp_3, amp_4]]).reshape(num_points * 4, 1)\n",
        "  return wave, amp"
      ],
      "execution_count": 96,
      "outputs": []
    },
    {
      "cell_type": "markdown",
      "metadata": {
        "id": "RdwxJpoWzSlX"
      },
      "source": [
        "Define a function to visualize the output of the neural network"
      ]
    },
    {
      "cell_type": "code",
      "metadata": {
        "id": "fxHRICgYyki8"
      },
      "source": [
        "# Visaulize the output\n",
        "def visualize_output(nn, num_points_test):\n",
        "  wave, amp = get_data(num_points_test)\n",
        "  output = nn.sim(wave)\n",
        "  plt.plot(amp.reshape(num_points_test * 4))\n",
        "  plt.plot(output.reshape(num_points_test * 4))"
      ],
      "execution_count": 105,
      "outputs": []
    },
    {
      "cell_type": "markdown",
      "metadata": {
        "id": "h2XmCueXzssy"
      },
      "source": [
        "Define the main function and creating a waveform"
      ]
    },
    {
      "cell_type": "code",
      "metadata": {
        "id": "YOpe2UX_zvQn"
      },
      "source": [
        "if __name__ == '__main__':\n",
        "  # Create some sample data\n",
        "  num_points = 40\n",
        "  wave, amp = get_data(num_points)"
      ],
      "execution_count": 106,
      "outputs": []
    },
    {
      "cell_type": "markdown",
      "metadata": {
        "id": "7TrWYQUZ0R4R"
      },
      "source": [
        "Create a recurrent neural network with two layers:"
      ]
    },
    {
      "cell_type": "code",
      "metadata": {
        "id": "-GUeg7Gizrms"
      },
      "source": [
        "# Create a recurrent neural network with 2 layers\n",
        "nn = nl.net.newelm([[-2, 2]], [10, 1], [nl.trans.TanSig(), nl.trans.PureLin()])"
      ],
      "execution_count": 107,
      "outputs": []
    },
    {
      "cell_type": "markdown",
      "metadata": {
        "id": "p4p5l0Za0q5o"
      },
      "source": [
        "Set the initializer functions for each layer:\n"
      ]
    },
    {
      "cell_type": "code",
      "metadata": {
        "id": "iQpk070z0tjb"
      },
      "source": [
        "# Set the init functions for each layer\n",
        "nn.layers[0].initf = nl.init.InitRand([-0.1, 0.1], 'wb')\n",
        "nn.layers[1].initf = nl.init.InitRand([-0.1, 0.1], 'wb')\n",
        "nn.init()"
      ],
      "execution_count": 108,
      "outputs": []
    },
    {
      "cell_type": "markdown",
      "metadata": {
        "id": "Ve6SQPvO1Iqi"
      },
      "source": [
        "Train the neural network:"
      ]
    },
    {
      "cell_type": "code",
      "metadata": {
        "colab": {
          "base_uri": "https://localhost:8080/"
        },
        "id": "5PXX1XYF1BV5",
        "outputId": "ca037557-d369-4fc8-9925-74f96f726ac5"
      },
      "source": [
        "# Train the recurrent neural network\n",
        "error_progress = nn.train(wave, amp, epochs=1200, show=100, goal=0.01)"
      ],
      "execution_count": 109,
      "outputs": [
        {
          "output_type": "stream",
          "text": [
            "Epoch: 100; Error: 0.7507889528483807;\n",
            "Epoch: 200; Error: 0.2598911926765113;\n",
            "Epoch: 300; Error: 0.061685663902978784;\n",
            "Epoch: 400; Error: 0.04898127726938981;\n",
            "Epoch: 500; Error: 0.04786184727616918;\n",
            "Epoch: 600; Error: 0.046202849502501885;\n",
            "Epoch: 700; Error: 0.04559931103950552;\n",
            "Epoch: 800; Error: 0.04306735533512247;\n",
            "Epoch: 900; Error: 0.04837010239522242;\n",
            "Epoch: 1000; Error: 0.04338222640044911;\n",
            "Epoch: 1100; Error: 0.04039294242337767;\n",
            "Epoch: 1200; Error: 0.04308247464133082;\n",
            "The maximum number of train epochs is reached\n"
          ],
          "name": "stdout"
        }
      ]
    },
    {
      "cell_type": "code",
      "metadata": {
        "id": "G2Q06fTY0qFK"
      },
      "source": [
        "# Run the training data through the network\n",
        "output = nn.sim(wave)"
      ],
      "execution_count": 110,
      "outputs": []
    },
    {
      "cell_type": "code",
      "metadata": {
        "colab": {
          "base_uri": "https://localhost:8080/",
          "height": 282
        },
        "id": "kZxI430C1iZl",
        "outputId": "7ea314b4-8a2d-4281-da9a-d1ef72ac3b53"
      },
      "source": [
        "# Plot the results\n",
        "plt.subplot(211)\n",
        "plt.plot(error_progress)\n",
        "plt.xlabel('Number of epochs')\n",
        "plt.ylabel('Error (MSE)')\n",
        "\n",
        "plt.subplot(212)\n",
        "plt.plot(amp.reshape(num_points * 4))\n",
        "plt.plot(output.reshape(num_points * 4))\n",
        "plt.legend(['Original', 'Predicted'])"
      ],
      "execution_count": 111,
      "outputs": [
        {
          "output_type": "execute_result",
          "data": {
            "text/plain": [
              "<matplotlib.legend.Legend at 0x7f7cb3df1d10>"
            ]
          },
          "metadata": {
            "tags": []
          },
          "execution_count": 111
        },
        {
          "output_type": "display_data",
          "data": {
            "image/png": "[encoded data removed]",
            "text/plain": [
              "<Figure size 432x288 with 2 Axes>"
            ]
          },
          "metadata": {
            "tags": [],
            "needs_background": "light"
          }
        }
      ]
    },
    {
      "cell_type": "code",
      "metadata": {
        "colab": {
          "base_uri": "https://localhost:8080/",
          "height": 265
        },
        "id": "sxYNb2PP14kU",
        "outputId": "55fe9c2f-308a-429e-8576-656684a1e2f2"
      },
      "source": [
        "# Testing the network performance on unknown data\n",
        "plt.figure()\n",
        "\n",
        "plt.subplot(211)\n",
        "visualize_output(nn, 82)\n",
        "plt.xlim([0, 300])\n",
        "\n",
        "plt.subplot(212)\n",
        "visualize_output(nn, 49)\n",
        "plt.xlim([0, 300])\n",
        "\n",
        "plt.show()"
      ],
      "execution_count": 112,
      "outputs": [
        {
          "output_type": "display_data",
          "data": {
            "image/png": "[encoded data removed]",
            "text/plain": [
              "<Figure size 432x288 with 2 Axes>"
            ]
          },
          "metadata": {
            "tags": [],
            "needs_background": "light"
          }
        }
      ]
    },
    {
      "cell_type": "markdown",
      "metadata": {
        "id": "3ZdLCjN424ZE"
      },
      "source": [
        "# Visualizing characters in an Optical Character Recognition database"
      ]
    },
    {
      "cell_type": "code",
      "metadata": {
        "id": "zQrEgtpV29Bl"
      },
      "source": [
        "import os\n",
        "import sys\n",
        "\n",
        "import cv2\n",
        "import numpy as np"
      ],
      "execution_count": 113,
      "outputs": []
    },
    {
      "cell_type": "code",
      "metadata": {
        "id": "uMr_tPHp3THW"
      },
      "source": [
        "# Define the input file containig the OCR data\n",
        "input_file = './data/letter.data'"
      ],
      "execution_count": 114,
      "outputs": []
    },
    {
      "cell_type": "code",
      "metadata": {
        "id": "1kh-unxc3oYL"
      },
      "source": [
        "# Define the visualization parameters \n",
        "img_resize_factor = 12\n",
        "start = 6\n",
        "end = -1\n",
        "height, width = 16, 8"
      ],
      "execution_count": 115,
      "outputs": []
    },
    {
      "cell_type": "code",
      "metadata": {
        "id": "nWDDVuKz3rWg"
      },
      "source": [
        "# Iterate until the user presses the Esc key\n",
        "with open(input_file, 'r') as f:\n",
        "    for line in f.readlines():\n",
        "        # Read the data\n",
        "        data = np.array([255 * float(x) for x in line.split('\\t')[start:end]])\n",
        "\n",
        "        # Reshape the data into a 2D image\n",
        "        img = np.reshape(data, (height, width))\n",
        "\n",
        "        # Scale the image\n",
        "        img_scaled = cv2.resize(img, None, fx=img_resize_factor, fy=img_resize_factor)\n",
        "\n",
        "        # Display the image\n",
        "        # cv2.imshow('Image', img_scaled)\n",
        "\n",
        "        # Check if the user pressed the Esc key\n",
        "        # c = cv2.waitKey()\n",
        "        # if c == 27:\n",
        "        #     break\n",
        "        \n",
        "        break   \n",
        "# cv2.destroyAllWindows()"
      ],
      "execution_count": 118,
      "outputs": []
    },
    {
      "cell_type": "markdown",
      "metadata": {
        "id": "mIC46YdW4Tam"
      },
      "source": [
        "# Building an Optical Character Recognition engine"
      ]
    },
    {
      "cell_type": "code",
      "metadata": {
        "id": "pEaOLKHv4idA"
      },
      "source": [
        "# Define the input file\n",
        "input_file = './data/letter.data'"
      ],
      "execution_count": 119,
      "outputs": []
    },
    {
      "cell_type": "code",
      "metadata": {
        "id": "x5eTHEDI4qDc"
      },
      "source": [
        "# Define the number of datapoints to be loaded from the input file\n",
        "num_datapoints = 50"
      ],
      "execution_count": 120,
      "outputs": []
    },
    {
      "cell_type": "code",
      "metadata": {
        "id": "RMl7BA4q312W"
      },
      "source": [
        "# String containing all the distinct characters\n",
        "orig_labels = 'omandig'"
      ],
      "execution_count": 121,
      "outputs": []
    },
    {
      "cell_type": "code",
      "metadata": {
        "id": "bVM5At3N5AZ4"
      },
      "source": [
        "# Compute the number of distinct characters\n",
        "num_orig_labels = len(orig_labels)"
      ],
      "execution_count": 122,
      "outputs": []
    },
    {
      "cell_type": "code",
      "metadata": {
        "id": "LszVtpNR5I8I"
      },
      "source": [
        "# Define the training and testing parameters\n",
        "num_train = int(0.9 * num_datapoints)\n",
        "num_test = num_datapoints - num_train"
      ],
      "execution_count": 123,
      "outputs": []
    },
    {
      "cell_type": "code",
      "metadata": {
        "id": "0s36Uy_B5SaN"
      },
      "source": [
        "# Define the dataset extraction parameters\n",
        "start = 6\n",
        "end = -1"
      ],
      "execution_count": 124,
      "outputs": []
    },
    {
      "cell_type": "code",
      "metadata": {
        "id": "tEd0xGif5bBc"
      },
      "source": [
        "# Creating the dataset\n",
        "data = []\n",
        "labels = []\n",
        "with open(input_file, 'r') as f:\n",
        "  for line in f.readlines():\n",
        "    # Split the current line tabwise\n",
        "    list_vals = line.split('\\t')\n",
        "    # Check if the label is in our ground truth labels. If not, we should skip it.\n",
        "    if list_vals[1] not in orig_labels:\n",
        "      continue\n",
        "    # Extract the current label and append it to the main list\n",
        "    label = np.zeros((num_orig_labels, 1))\n",
        "    label[orig_labels.index(list_vals[1])] = 1\n",
        "    labels.append(label)\n",
        "    # Extract the character vector and append it to the main list\n",
        "    cur_char = np.array([float(x) for x in list_vals[start:end]])\n",
        "    data.append(cur_char)\n",
        "    # Exit the loop once the required datset has been created\n",
        "    if len(data) >= num_datapoints:\n",
        "      break"
      ],
      "execution_count": 127,
      "outputs": []
    },
    {
      "cell_type": "code",
      "metadata": {
        "id": "kV1mwGqt6nUN"
      },
      "source": [
        "# Convert the data and labels into numpy arrays\n",
        "data = np.asfarray(data)\n",
        "labels = np.array(labels).reshape(num_datapoints, num_orig_labels)"
      ],
      "execution_count": 128,
      "outputs": []
    },
    {
      "cell_type": "code",
      "metadata": {
        "id": "z3p4gXBH60Cy"
      },
      "source": [
        "# Extract the number of dimensions\n",
        "num_dims = len(data[0])"
      ],
      "execution_count": 129,
      "outputs": []
    },
    {
      "cell_type": "code",
      "metadata": {
        "id": "-A_xHRwG65Aa"
      },
      "source": [
        "# Create a feedforward neural network\n",
        "nn = nl.net.newff([[0, 1] for _ in range(len(data[0]))], [128, 16, num_orig_labels])\n",
        "\n",
        "# Set the training algorithm to gradient descent\n",
        "nn.trainf = nl.train.train_gd"
      ],
      "execution_count": 130,
      "outputs": []
    },
    {
      "cell_type": "code",
      "metadata": {
        "colab": {
          "base_uri": "https://localhost:8080/"
        },
        "id": "enO-JH0F7S4D",
        "outputId": "7acf7b17-ca4d-4c43-aeb0-dee796ab28cf"
      },
      "source": [
        "# Train the neural network\n",
        "error_progress = nn.train(data[:num_train,:], labels[:num_train,:], epochs=10000, show=100, goal=0.01)"
      ],
      "execution_count": 131,
      "outputs": [
        {
          "output_type": "stream",
          "text": [
            "Epoch: 100; Error: 50.12605849822061;\n",
            "Epoch: 200; Error: 41.54823775003852;\n",
            "Epoch: 300; Error: 28.385145870501695;\n",
            "Epoch: 400; Error: 21.91046844114794;\n",
            "Epoch: 500; Error: 22.810208811379262;\n",
            "Epoch: 600; Error: 11.439283030647637;\n",
            "Epoch: 700; Error: 10.487995979906188;\n",
            "Epoch: 800; Error: 10.579431515241758;\n",
            "Epoch: 900; Error: 9.238159566144795;\n",
            "Epoch: 1000; Error: 8.618724514055438;\n",
            "Epoch: 1100; Error: 8.29293325757913;\n",
            "Epoch: 1200; Error: 7.954636154611357;\n",
            "Epoch: 1300; Error: 7.568039446087846;\n",
            "Epoch: 1400; Error: 8.813517265280744;\n",
            "Epoch: 1500; Error: 8.068066946044517;\n",
            "Epoch: 1600; Error: 7.381555141678705;\n",
            "Epoch: 1700; Error: 6.486682513280292;\n",
            "Epoch: 1800; Error: 4.615003467686971;\n",
            "Epoch: 1900; Error: 3.2522614459734323;\n",
            "Epoch: 2000; Error: 3.119857906340285;\n",
            "Epoch: 2100; Error: 2.927113582614919;\n",
            "Epoch: 2200; Error: 2.6367152521899944;\n",
            "Epoch: 2300; Error: 3.1017522582571466;\n",
            "Epoch: 2400; Error: 2.5276471667937566;\n",
            "Epoch: 2500; Error: 2.9649531437691614;\n",
            "Epoch: 2600; Error: 1.0755490861379635;\n",
            "Epoch: 2700; Error: 0.02295402900236082;\n",
            "Epoch: 2800; Error: 0.03543062096670184;\n",
            "Epoch: 2900; Error: 0.026516558547370193;\n",
            "Epoch: 3000; Error: 0.014196060229379238;\n",
            "Epoch: 3100; Error: 0.010893813007537986;\n",
            "The goal of learning is reached\n"
          ],
          "name": "stdout"
        }
      ]
    },
    {
      "cell_type": "code",
      "metadata": {
        "colab": {
          "base_uri": "https://localhost:8080/"
        },
        "id": "6weZU9e98Atj",
        "outputId": "fa2f7c2d-8934-4ac6-9ea2-8884af7008a3"
      },
      "source": [
        "# Predict the output for test inputs\n",
        "print('\\nTesting on unknown data:')\n",
        "predicted_test = nn.sim(data[num_train:, :])\n",
        "for i in range(num_test):\n",
        "  print('\\nOriginal:', orig_labels[np.argmax(labels[i])])\n",
        "  print('Predicted:', orig_labels[np.argmax(predicted_test[i])])"
      ],
      "execution_count": 132,
      "outputs": [
        {
          "output_type": "stream",
          "text": [
            "\n",
            "Testing on unknown data:\n",
            "\n",
            "Original: o\n",
            "Predicted: o\n",
            "\n",
            "Original: m\n",
            "Predicted: n\n",
            "\n",
            "Original: m\n",
            "Predicted: m\n",
            "\n",
            "Original: a\n",
            "Predicted: o\n",
            "\n",
            "Original: n\n",
            "Predicted: n\n"
          ],
          "name": "stdout"
        }
      ]
    },
    {
      "cell_type": "markdown",
      "metadata": {
        "id": "VRDaB2dNBtnU"
      },
      "source": [
        "# Recurrent Neural Network"
      ]
    },
    {
      "cell_type": "markdown",
      "metadata": {
        "id": "NJPIBsBXDC_B"
      },
      "source": [
        "## Long Short-Term Memory (LSTM)"
      ]
    },
    {
      "cell_type": "code",
      "metadata": {
        "id": "rC7Df5l1Dh3g"
      },
      "source": [
        "from keras.preprocessing import sequence\n",
        "from keras.models import Sequential\n",
        "from keras.layers import Dense, Activation, Embedding\n",
        "from keras.layers import LSTM\n",
        "from keras.datasets import imdb"
      ],
      "execution_count": 134,
      "outputs": []
    },
    {
      "cell_type": "code",
      "metadata": {
        "id": "3qPV_NkeDw-6"
      },
      "source": [
        "max_features = 20000\n",
        "maxlen = 80 # cut texts after this number of words (among top max_features most common words)\n",
        "batch_size = 32"
      ],
      "execution_count": 135,
      "outputs": []
    },
    {
      "cell_type": "code",
      "metadata": {
        "colab": {
          "base_uri": "https://localhost:8080/"
        },
        "id": "h1xYsDW_D7B2",
        "outputId": "ac3fb7a3-27a6-4e5d-d445-c8e934c7c2f8"
      },
      "source": [
        "# Load data\n",
        "(X_train, y_train), (X_test, y_test) = imdb.load_data(nb_words=max_features)"
      ],
      "execution_count": 139,
      "outputs": [
        {
          "output_type": "stream",
          "text": [
            "WARNING:tensorflow:The `nb_words` argument in `load_data` has been renamed `num_words`.\n"
          ],
          "name": "stdout"
        },
        {
          "output_type": "stream",
          "text": [
            "<string>:6: VisibleDeprecationWarning: Creating an ndarray from ragged nested sequences (which is a list-or-tuple of lists-or-tuples-or ndarrays with different lengths or shapes) is deprecated. If you meant to do this, you must specify 'dtype=object' when creating the ndarray\n",
            "/usr/local/lib/python3.7/dist-packages/tensorflow/python/keras/datasets/imdb.py:159: VisibleDeprecationWarning: Creating an ndarray from ragged nested sequences (which is a list-or-tuple of lists-or-tuples-or ndarrays with different lengths or shapes) is deprecated. If you meant to do this, you must specify 'dtype=object' when creating the ndarray\n",
            "  x_train, y_train = np.array(xs[:idx]), np.array(labels[:idx])\n",
            "/usr/local/lib/python3.7/dist-packages/tensorflow/python/keras/datasets/imdb.py:160: VisibleDeprecationWarning: Creating an ndarray from ragged nested sequences (which is a list-or-tuple of lists-or-tuples-or ndarrays with different lengths or shapes) is deprecated. If you meant to do this, you must specify 'dtype=object' when creating the ndarray\n",
            "  x_test, y_test = np.array(xs[idx:]), np.array(labels[idx:])\n"
          ],
          "name": "stderr"
        }
      ]
    },
    {
      "cell_type": "code",
      "metadata": {
        "colab": {
          "base_uri": "https://localhost:8080/"
        },
        "id": "n2c0CtjMFEpY",
        "outputId": "dae3b3ad-7daf-4fa8-a6b1-c8466ce078ca"
      },
      "source": [
        "print(len(X_train), 'train sequences')\n",
        "print(len(X_test), 'test sequences')"
      ],
      "execution_count": 140,
      "outputs": [
        {
          "output_type": "stream",
          "text": [
            "25000 train sequences\n",
            "25000 test sequences\n"
          ],
          "name": "stdout"
        }
      ]
    },
    {
      "cell_type": "code",
      "metadata": {
        "colab": {
          "base_uri": "https://localhost:8080/"
        },
        "id": "ze1ZhM46EUch",
        "outputId": "6d9bfd2a-8018-470d-9f53-309e7a841871"
      },
      "source": [
        "print('Pad sequences (samples x time)')\n",
        "X_train = sequence.pad_sequences(X_train,maxlen=maxlen)\n",
        "X_test = sequence.pad_sequences(X_test, maxlen = maxlen)\n",
        "print('X_train shape:', X_train.shape)\n",
        "print('X_test shape: ', X_test.shape)"
      ],
      "execution_count": 141,
      "outputs": [
        {
          "output_type": "stream",
          "text": [
            "Pad sequences (samples x time)\n",
            "X_train shape: (25000, 80)\n",
            "X_test shape:  (25000, 80)\n"
          ],
          "name": "stdout"
        }
      ]
    },
    {
      "cell_type": "code",
      "metadata": {
        "id": "vpC4l65QE0qn"
      },
      "source": [
        "# Model configuration\n",
        "model = Sequential()\n",
        "model.add(Embedding(max_features, 128))\n",
        "model.add(LSTM(128, dropout=0.2)) # try using a GRU instead, for fun\n",
        "model.add(Dense(1))\n",
        "model.add(Activation('sigmoid'))\n",
        "\n",
        "#try using different optimizers and different optimizer configs\n",
        "model.compile(loss='binary_crossentropy', optimizer='adam', metrics=['accuracy'])"
      ],
      "execution_count": 143,
      "outputs": []
    },
    {
      "cell_type": "code",
      "metadata": {
        "colab": {
          "base_uri": "https://localhost:8080/"
        },
        "id": "uhBnXboeFaQV",
        "outputId": "1cd26c19-516b-4799-e4ea-688d246d4177"
      },
      "source": [
        "model.fit(X_train, y_train, batch_size=batch_size, epochs = 5, validation_data=(X_test, y_test))"
      ],
      "execution_count": 145,
      "outputs": [
        {
          "output_type": "stream",
          "text": [
            "Epoch 1/5\n",
            "782/782 [==============================] - 126s 159ms/step - loss: 0.4966 - accuracy: 0.7461 - val_loss: 0.3537 - val_accuracy: 0.8433\n",
            "Epoch 2/5\n",
            "782/782 [==============================] - 124s 158ms/step - loss: 0.2429 - accuracy: 0.9045 - val_loss: 0.3684 - val_accuracy: 0.8390\n",
            "Epoch 3/5\n",
            "782/782 [==============================] - 123s 158ms/step - loss: 0.1491 - accuracy: 0.9453 - val_loss: 0.5307 - val_accuracy: 0.8260\n",
            "Epoch 4/5\n",
            "782/782 [==============================] - 124s 158ms/step - loss: 0.0908 - accuracy: 0.9677 - val_loss: 0.5513 - val_accuracy: 0.8262\n",
            "Epoch 5/5\n",
            "782/782 [==============================] - 124s 158ms/step - loss: 0.0662 - accuracy: 0.9781 - val_loss: 0.6071 - val_accuracy: 0.8204\n"
          ],
          "name": "stdout"
        },
        {
          "output_type": "execute_result",
          "data": {
            "text/plain": [
              "<tensorflow.python.keras.callbacks.History at 0x7f7c5e6e6c50>"
            ]
          },
          "metadata": {
            "tags": []
          },
          "execution_count": 145
        }
      ]
    },
    {
      "cell_type": "code",
      "metadata": {
        "colab": {
          "base_uri": "https://localhost:8080/"
        },
        "id": "Nx5A9sM_GMAC",
        "outputId": "1e3aa780-8d2b-454a-a689-661899129c57"
      },
      "source": [
        "# Evaluate\n",
        "train_score, train_acc = model.evaluate(X_train, y_train, batch_size=batch_size)\n",
        "test_score, test_acc = model.evaluate(X_test, y_test, batch_size=batch_size)\n",
        "\n",
        "print('Train score: ', train_score)\n",
        "print('Train accuracy: ', train_acc)\n",
        "\n",
        "print('Test score: ', test_score)\n",
        "print('Test accuracy: ', test_acc)"
      ],
      "execution_count": 146,
      "outputs": [
        {
          "output_type": "stream",
          "text": [
            "782/782 [==============================] - 22s 29ms/step - loss: 0.0354 - accuracy: 0.9912\n",
            "782/782 [==============================] - 22s 29ms/step - loss: 0.6071 - accuracy: 0.8204\n",
            "Train score:  0.035420358180999756\n",
            "Train accuracy:  0.9911999702453613\n",
            "Test score:  0.6070968508720398\n",
            "Test accuracy:  0.820360004901886\n"
          ],
          "name": "stdout"
        }
      ]
    },
    {
      "cell_type": "markdown",
      "metadata": {
        "id": "vc_XKBmpJllh"
      },
      "source": [
        "# Transfer Learning"
      ]
    },
    {
      "cell_type": "code",
      "metadata": {
        "id": "aIJV_y9JJMN9"
      },
      "source": [
        "from keras.datasets import mnist\n",
        "from keras.models import Sequential\n",
        "from keras.layers import Dense, Dropout, Activation, Flatten\n",
        "from keras.layers import Convolution2D, MaxPooling2D\n",
        "from keras.utils import np_utils\n",
        "from keras import backend as K"
      ],
      "execution_count": 147,
      "outputs": []
    },
    {
      "cell_type": "code",
      "metadata": {
        "id": "xOkwkjrbKMhY"
      },
      "source": [
        "batch_size = 128\n",
        "nb_classes = 5\n",
        "nb_epoch = 5"
      ],
      "execution_count": 148,
      "outputs": []
    },
    {
      "cell_type": "code",
      "metadata": {
        "id": "Z5trtpNlKW35"
      },
      "source": [
        "# input image dimensions\n",
        "img_rows, img_cols = 28, 28"
      ],
      "execution_count": 149,
      "outputs": []
    },
    {
      "cell_type": "code",
      "metadata": {
        "id": "wnql2AtZKa3R"
      },
      "source": [
        "# number of convolutional filters to use\n",
        "nb_filters = 32"
      ],
      "execution_count": 150,
      "outputs": []
    },
    {
      "cell_type": "code",
      "metadata": {
        "id": "wIk59qnuKhEK"
      },
      "source": [
        "# size of pooling area for max pooling\n",
        "pool_size = 2"
      ],
      "execution_count": 151,
      "outputs": []
    },
    {
      "cell_type": "code",
      "metadata": {
        "id": "n4w42edrKl98"
      },
      "source": [
        "# convolution kernel size\n",
        "kernel_size = 3"
      ],
      "execution_count": 152,
      "outputs": []
    },
    {
      "cell_type": "code",
      "metadata": {
        "colab": {
          "base_uri": "https://localhost:8080/"
        },
        "id": "6adFc8PDKpUN",
        "outputId": "7826c3eb-b707-4a88-9bab-8ab2a6eaa60a"
      },
      "source": [
        "input_shape = (img_rows, img_cols, 1)\n",
        "# the data, shuffled and split between train and test sets\n",
        "(X_train, y_train), (X_test, y_test) = mnist.load_data()"
      ],
      "execution_count": 153,
      "outputs": [
        {
          "output_type": "stream",
          "text": [
            "Downloading data from https://storage.googleapis.com/tensorflow/tf-keras-datasets/mnist.npz\n",
            "11493376/11490434 [==============================] - 0s 0us/step\n"
          ],
          "name": "stdout"
        }
      ]
    },
    {
      "cell_type": "code",
      "metadata": {
        "id": "hbMUZ7tzK1zy"
      },
      "source": [
        "# create two datasets one with digits below 5 and one with 5 and above\n",
        "X_train_lt5 = X_train[y_train < 5]\n",
        "y_train_lt5 = y_train[y_train < 5]\n",
        "X_test_lt5 = X_test[y_test < 5]\n",
        "y_test_lt5 = y_test[y_test < 5]"
      ],
      "execution_count": 154,
      "outputs": []
    },
    {
      "cell_type": "code",
      "metadata": {
        "id": "HXhVwrYoLO6a"
      },
      "source": [
        "X_train_gte5 = X_train[y_train >= 5]\n",
        "y_train_gte5 = y_train[y_train >= 5] - 5 #make classes start at 0 for\n",
        "X_test_gte5 = X_test[y_test >= 5] #np_utils.to categorical\n",
        "y_test_gte5 = y_test[y_test >= 5] - 5"
      ],
      "execution_count": 155,
      "outputs": []
    },
    {
      "cell_type": "code",
      "metadata": {
        "id": "u1ctdNEuLq42"
      },
      "source": [
        "# Train model for digits 0 to 4\n",
        "def train_model(model, train, test, nb_classes):\n",
        "  X_train = train[0].reshape((train[0].shape[0], ) + input_shape)\n",
        "  X_test = test[0].reshape((test[0].shape[0], ) + input_shape)\n",
        "  X_train = X_train.astype('float32')\n",
        "  X_test = X_test.astype('float32')\n",
        "  X_train /= 255\n",
        "  X_test /= 255\n",
        "  print('X_train shape:', X_train.shape)\n",
        "  print(X_train.shape[0], 'train samples')\n",
        "  print(X_test.shape[0], 'test samples')\n",
        "\n",
        "  #convert class vectors to binary class matrices\n",
        "  Y_train = np_utils.to_categorical(train[1], nb_classes)\n",
        "  Y_test = np_utils.to_categorical(test[1], nb_classes)\n",
        "\n",
        "  model.compile(loss='categorical_crossentropy', optimizer='adadelta', metrics=['accuracy'])\n",
        "\n",
        "  model.fit(X_train, Y_train, batch_size=batch_size, epochs=nb_epoch, verbose=1, validation_data=(X_test, Y_test))\n",
        "  score = model.evaluate(X_test, Y_test, verbose=0)\n",
        "  print('Test score: ', score[0])\n",
        "  print('Test accuracy', score[1])"
      ],
      "execution_count": 170,
      "outputs": []
    },
    {
      "cell_type": "code",
      "metadata": {
        "id": "PRAzg35SNVQk"
      },
      "source": [
        "# define two groups of layers: feature(convolutions) and classification(dense)\n",
        "feature_layers = [\n",
        "                  Convolution2D(nb_filters, kernel_size,\n",
        "                                input_shape=input_shape),\n",
        "                  Activation('relu'),\n",
        "                  Convolution2D(nb_filters, kernel_size),\n",
        "                  Activation('relu'),\n",
        "                  MaxPooling2D(pool_size=(pool_size, pool_size)),\n",
        "                  Dropout(0.25),\n",
        "                  Flatten(),\n",
        "]\n",
        "classification_layers = [\n",
        "                         Dense(128),\n",
        "                         Activation('relu'),\n",
        "                         Dropout(0.5),\n",
        "                         Dense(nb_classes),\n",
        "                         Activation('softmax')\n",
        "]\n"
      ],
      "execution_count": 176,
      "outputs": []
    },
    {
      "cell_type": "code",
      "metadata": {
        "id": "gZxcQLhgOlcU"
      },
      "source": [
        "# create complete model\n",
        "model = Sequential(feature_layers + classification_layers)"
      ],
      "execution_count": 177,
      "outputs": []
    },
    {
      "cell_type": "code",
      "metadata": {
        "colab": {
          "base_uri": "https://localhost:8080/"
        },
        "id": "Ku8avtsROs5z",
        "outputId": "3fa293e5-ef96-458d-82fe-f024f01ebcca"
      },
      "source": [
        "# train model for 5-digit classification[0..4]\n",
        "train_model(model, (X_train_lt5, y_train_lt5), (X_test_lt5, y_test_lt5), nb_classes)\n"
      ],
      "execution_count": 178,
      "outputs": [
        {
          "output_type": "stream",
          "text": [
            "X_train shape: (30596, 28, 28, 1)\n",
            "30596 train samples\n",
            "5139 test samples\n",
            "Epoch 1/5\n",
            "240/240 [==============================] - 49s 201ms/step - loss: 1.6020 - accuracy: 0.2572 - val_loss: 1.5667 - val_accuracy: 0.4637\n",
            "Epoch 2/5\n",
            "240/240 [==============================] - 48s 199ms/step - loss: 1.5655 - accuracy: 0.3539 - val_loss: 1.5260 - val_accuracy: 0.7031\n",
            "Epoch 3/5\n",
            "240/240 [==============================] - 48s 198ms/step - loss: 1.5266 - accuracy: 0.4563 - val_loss: 1.4800 - val_accuracy: 0.8074\n",
            "Epoch 4/5\n",
            "240/240 [==============================] - 48s 199ms/step - loss: 1.4810 - accuracy: 0.5471 - val_loss: 1.4258 - val_accuracy: 0.8523\n",
            "Epoch 5/5\n",
            "240/240 [==============================] - 48s 201ms/step - loss: 1.4306 - accuracy: 0.6143 - val_loss: 1.3611 - val_accuracy: 0.8801\n",
            "Test score:  1.361143946647644\n",
            "Test accuracy 0.8801323175430298\n"
          ],
          "name": "stdout"
        }
      ]
    },
    {
      "cell_type": "markdown",
      "metadata": {
        "id": "ZUpfLHZXPP08"
      },
      "source": [
        "Transfer existing trained model on 0 to 4 to build model for digits 5 to 9"
      ]
    },
    {
      "cell_type": "code",
      "metadata": {
        "id": "Zq7nhtFqO9WA"
      },
      "source": [
        "# freeze feature layers and rebuild model\n",
        "for layer in feature_layers:\n",
        "  layer.trainable = False"
      ],
      "execution_count": 179,
      "outputs": []
    },
    {
      "cell_type": "code",
      "metadata": {
        "colab": {
          "base_uri": "https://localhost:8080/"
        },
        "id": "-x0STyv6PJeM",
        "outputId": "94db5afe-562c-4515-f006-5fbab3304df5"
      },
      "source": [
        "# transfer: train dense layers for new classification task [5..9]\n",
        "train_model(model, (X_train_gte5, y_train_gte5), (X_test_gte5, y_test_gte5), nb_classes)"
      ],
      "execution_count": 180,
      "outputs": [
        {
          "output_type": "stream",
          "text": [
            "X_train shape: (29404, 28, 28, 1)\n",
            "29404 train samples\n",
            "4861 test samples\n",
            "Epoch 1/5\n",
            "230/230 [==============================] - 15s 66ms/step - loss: 1.5920 - accuracy: 0.2592 - val_loss: 1.5567 - val_accuracy: 0.3974\n",
            "Epoch 2/5\n",
            "230/230 [==============================] - 15s 64ms/step - loss: 1.5579 - accuracy: 0.3146 - val_loss: 1.5199 - val_accuracy: 0.4752\n",
            "Epoch 3/5\n",
            "230/230 [==============================] - 15s 64ms/step - loss: 1.5238 - accuracy: 0.3744 - val_loss: 1.4834 - val_accuracy: 0.5472\n",
            "Epoch 4/5\n",
            "230/230 [==============================] - 15s 65ms/step - loss: 1.4885 - accuracy: 0.4290 - val_loss: 1.4471 - val_accuracy: 0.6073\n",
            "Epoch 5/5\n",
            "230/230 [==============================] - 15s 65ms/step - loss: 1.4571 - accuracy: 0.4751 - val_loss: 1.4107 - val_accuracy: 0.6634\n",
            "Test score:  1.4106525182724\n",
            "Test accuracy 0.6634437441825867\n"
          ],
          "name": "stdout"
        }
      ]
    },
    {
      "cell_type": "code",
      "metadata": {
        "id": "uqxZ0Ms0Q2Pb"
      },
      "source": [
        ""
      ],
      "execution_count": null,
      "outputs": []
    }
  ]
}